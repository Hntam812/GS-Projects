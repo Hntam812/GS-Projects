{
 "cells": [
  {
   "attachments": {},
   "cell_type": "markdown",
   "metadata": {},
   "source": [
    "input : file data in local or database \n",
    "\n",
    "output : dataframe with columns to visualize"
   ]
  },
  {
   "cell_type": "code",
   "execution_count": 1,
   "metadata": {},
   "outputs": [],
   "source": [
    "import pandas as pd \n",
    "\n",
    "import glob"
   ]
  },
  {
   "cell_type": "code",
   "execution_count": 2,
   "metadata": {},
   "outputs": [
    {
     "name": "stdout",
     "output_type": "stream",
     "text": [
      "==> file: data/output_key_metrics/laz_biz_20220201.xlsx\n",
      "col : ['PRODUCT_NAME', 'SELLER_SKU', 'SKU_ID', 'URL', 'SKU_VISITORS', 'SKU_VIEWS', 'VISITOR_VALUE', 'ADD_TO_CART_VISITORS', 'ADD_TO_CART_UNITS', 'ADD_TO_CART_RATE', 'WISHLIST_VISITORS', 'WISHLISTS', 'BUYERS', 'ORDERS', 'UNITS_SOLD', 'REVENUE', 'CONVERSION_RATE', 'REVENUE_PER_BUYER', 'DATE']\n",
      "==> file: data/output_key_metrics/laz_biz_20220901.xlsx\n",
      "col : ['PRODUCT_NAME', 'PRODUCT_ID', 'URL', 'SELLER_SKU', 'VARIANT', 'SKU_ID', 'PRODUCT_SKU_VISITORS', 'PRODUCT_SKU_VIEWS', 'VISITOR_VALUE', 'ADD_TO_CART_VISITORS', 'ADD_TO_CART_UNITS', 'ADD_TO_CART_CONVERSION_RATE', 'WISHLIST_VISITORS', 'WISHLISTS', 'BUYERS', 'ORDERS', 'UNITS_SOLD', 'REVENUE', 'CONVERSION_RATE', 'REVENUE_PER_BUYER', 'REVENUE_SHARE', 'DATE']\n",
      "==> file: data/output_key_metrics/laz_biz_20221101.xlsx\n",
      "col : ['PRODUCT_NAME', 'PRODUCT_ID', 'URL', 'SELLER_SKU', 'VARIANT', 'SKU_ID', 'PRODUCT_SKU_VISITORS', 'PRODUCT_SKU_VIEWS', 'VISITOR_VALUE', 'ADD_TO_CART_VISITORS', 'ADD_TO_CART_UNITS', 'ADD_TO_CART_CONVERSION_RATE', 'WISHLIST_VISITORS', 'WISHLISTS', 'BUYERS', 'ORDERS', 'UNITS_SOLD', 'REVENUE', 'CONVERSION_RATE', 'REVENUE_PER_BUYER', 'REVENUE_SHARE', 'DATE']\n",
      "==> file: data/output_key_metrics/laz_biz_20221102.xlsx\n",
      "col : ['PRODUCT_NAME', 'PRODUCT_ID', 'URL', 'SELLER_SKU', 'VARIANT', 'SKU_ID', 'PRODUCT_SKU_VISITORS', 'PRODUCT_SKU_VIEWS', 'VISITOR_VALUE', 'ADD_TO_CART_VISITORS', 'ADD_TO_CART_UNITS', 'ADD_TO_CART_CONVERSION_RATE', 'WISHLIST_VISITORS', 'WISHLISTS', 'BUYERS', 'ORDERS', 'UNITS_SOLD', 'REVENUE', 'CONVERSION_RATE', 'REVENUE_PER_BUYER', 'REVENUE_SHARE', 'DATE']\n",
      "==> file: data/output_key_metrics/laz_biz_20221211.xlsx\n",
      "col : ['PRODUCT_NAME', 'PRODUCT_ID', 'URL', 'SELLER_SKU', 'VARIANT', 'SKU_ID', 'PRODUCT_SKU_VISITORS', 'PRODUCT_SKU_VIEWS', 'VISITOR_VALUE', 'ADD_TO_CART_VISITORS', 'ADD_TO_CART_UNITS', 'ADD_TO_CART_CONVERSION_RATE', 'WISHLIST_VISITORS', 'WISHLISTS', 'BUYERS', 'ORDERS', 'UNITS_SOLD', 'REVENUE', 'CONVERSION_RATE', 'REVENUE_PER_BUYER', 'REVENUE_SHARE', 'DATE']\n"
     ]
    }
   ],
   "source": [
    "p_laz_biz=glob.glob('data/output_key_metrics/laz*')                                 \n",
    "\n",
    "p_laz_biz.sort()\n",
    "\n",
    "tmp=[]\n",
    "\n",
    "for i in p_laz_biz :                                                            \n",
    "    \n",
    "    print(f'==> file: {i}')\n",
    "\n",
    "    df=pd.read_excel(i)                                                             \n",
    "    \n",
    "    col=[x for x in df.columns.tolist()]\n",
    "    \n",
    "    print(f'col : {col}')"
   ]
  },
  {
   "cell_type": "code",
   "execution_count": 3,
   "metadata": {},
   "outputs": [
    {
     "name": "stdout",
     "output_type": "stream",
     "text": [
      "==> file: data/output_key_metrics/laz_biz_20220201.xlsx\n",
      "col : ['PRODUCT_NAME', 'SELLER_SKU', 'SKU_ID', 'URL', 'SKU_VISITORS', 'SKU_VIEWS', 'VISITOR_VALUE', 'ADD_TO_CART_VISITORS', 'ADD_TO_CART_UNITS', 'ADD_TO_CART_RATE', 'WISHLIST_VISITORS', 'WISHLISTS', 'BUYERS', 'ORDERS', 'UNITS_SOLD', 'REVENUE', 'CONVERSION_RATE', 'REVENUE_PER_BUYER', 'DATE']\n",
      "==> file: data/output_key_metrics/laz_biz_20220901.xlsx\n",
      "col : ['PRODUCT_NAME', 'PRODUCT_ID', 'URL', 'SELLER_SKU', 'VARIANT', 'SKU_ID', 'PRODUCT_SKU_VISITORS', 'PRODUCT_SKU_VIEWS', 'VISITOR_VALUE', 'ADD_TO_CART_VISITORS', 'ADD_TO_CART_UNITS', 'ADD_TO_CART_CONVERSION_RATE', 'WISHLIST_VISITORS', 'WISHLISTS', 'BUYERS', 'ORDERS', 'UNITS_SOLD', 'REVENUE', 'CONVERSION_RATE', 'REVENUE_PER_BUYER', 'REVENUE_SHARE', 'DATE']\n",
      "==> file: data/output_key_metrics/laz_biz_20221101.xlsx\n",
      "col : ['PRODUCT_NAME', 'PRODUCT_ID', 'URL', 'SELLER_SKU', 'VARIANT', 'SKU_ID', 'PRODUCT_SKU_VISITORS', 'PRODUCT_SKU_VIEWS', 'VISITOR_VALUE', 'ADD_TO_CART_VISITORS', 'ADD_TO_CART_UNITS', 'ADD_TO_CART_CONVERSION_RATE', 'WISHLIST_VISITORS', 'WISHLISTS', 'BUYERS', 'ORDERS', 'UNITS_SOLD', 'REVENUE', 'CONVERSION_RATE', 'REVENUE_PER_BUYER', 'REVENUE_SHARE', 'DATE']\n",
      "==> file: data/output_key_metrics/laz_biz_20221102.xlsx\n",
      "col : ['PRODUCT_NAME', 'PRODUCT_ID', 'URL', 'SELLER_SKU', 'VARIANT', 'SKU_ID', 'PRODUCT_SKU_VISITORS', 'PRODUCT_SKU_VIEWS', 'VISITOR_VALUE', 'ADD_TO_CART_VISITORS', 'ADD_TO_CART_UNITS', 'ADD_TO_CART_CONVERSION_RATE', 'WISHLIST_VISITORS', 'WISHLISTS', 'BUYERS', 'ORDERS', 'UNITS_SOLD', 'REVENUE', 'CONVERSION_RATE', 'REVENUE_PER_BUYER', 'REVENUE_SHARE', 'DATE']\n",
      "==> file: data/output_key_metrics/laz_biz_20221211.xlsx\n",
      "col : ['PRODUCT_NAME', 'PRODUCT_ID', 'URL', 'SELLER_SKU', 'VARIANT', 'SKU_ID', 'PRODUCT_SKU_VISITORS', 'PRODUCT_SKU_VIEWS', 'VISITOR_VALUE', 'ADD_TO_CART_VISITORS', 'ADD_TO_CART_UNITS', 'ADD_TO_CART_CONVERSION_RATE', 'WISHLIST_VISITORS', 'WISHLISTS', 'BUYERS', 'ORDERS', 'UNITS_SOLD', 'REVENUE', 'CONVERSION_RATE', 'REVENUE_PER_BUYER', 'REVENUE_SHARE', 'DATE']\n"
     ]
    }
   ],
   "source": [
    "\n",
    "for i in p_laz_biz :                                                           \n",
    "    \n",
    "    print(f'==> file: {i}')\n",
    "\n",
    "    df=pd.read_excel(i)\n",
    "    \n",
    "    col=[x for x in df.columns]                                            \n",
    "    \n",
    "    print(f'col : {col}')"
   ]
  },
  {
   "cell_type": "code",
   "execution_count": 4,
   "metadata": {},
   "outputs": [
    {
     "data": {
      "text/plain": [
       "list"
      ]
     },
     "execution_count": 4,
     "metadata": {},
     "output_type": "execute_result"
    }
   ],
   "source": [
    "type(col)"
   ]
  },
  {
   "cell_type": "code",
   "execution_count": null,
   "metadata": {},
   "outputs": [],
   "source": []
  }
 ],
 "metadata": {
  "kernelspec": {
   "display_name": "Python 3",
   "language": "python",
   "name": "python3"
  },
  "language_info": {
   "codemirror_mode": {
    "name": "ipython",
    "version": 3
   },
   "file_extension": ".py",
   "mimetype": "text/x-python",
   "name": "python",
   "nbconvert_exporter": "python",
   "pygments_lexer": "ipython3",
   "version": "3.10.6"
  },
  "orig_nbformat": 4
 },
 "nbformat": 4,
 "nbformat_minor": 2
}
