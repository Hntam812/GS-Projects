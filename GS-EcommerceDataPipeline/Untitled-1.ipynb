{
 "cells": [
  {
   "attachments": {},
   "cell_type": "markdown",
   "metadata": {},
   "source": [
    "Query data from mysql to process \n",
    "\n",
    "--record : get table_name by label \n",
    "\n",
    "--table_name : get dataframe "
   ]
  },
  {
   "cell_type": "markdown",
   "metadata": {},
   "source": [
    "---> code execute query : SELECT *FROM record "
   ]
  },
  {
   "cell_type": "code",
   "execution_count": 8,
   "metadata": {},
   "outputs": [],
   "source": [
    "def execute_query(db,query):\n",
    "    \n",
    "    print('***** { Function } :  execute_query(query): ')\n",
    "    \n",
    "    print('')    \n",
    "    \n",
    "    import pymysql\n",
    "\n",
    "    # Establish a connection to the MySQL database\n",
    "    connection = pymysql.connect(host='localhost',\n",
    "                                user='t',\n",
    "                                password='a',\n",
    "                                db=db)\n",
    "\n",
    "    # Create a cursor object\n",
    "\n",
    "    cursor = connection.cursor()\n",
    "\n",
    "    # Execute a query\n",
    "\n",
    "    #query='SELECT table_name FROM record WHERE id = (SELECT max(id) FROM record WHERE label = \"' + label + '\" )'\n",
    "    \n",
    "    print('---> execute query : ', query)\n",
    "    \n",
    "    print('')\n",
    "\n",
    "    # value = 'your_value'\n",
    "\n",
    "    cursor.execute(query)\n",
    "\n",
    "    # Fetch the results\n",
    "\n",
    "    results = cursor.fetchall()\n",
    "\n",
    "    # Print the results\n",
    "    table_name=[]\n",
    "    \n",
    "    for result in results : \n",
    "        \n",
    "        table_name.append(result[0])\n",
    "\n",
    "    # Close the cursor and the database connection\n",
    "\n",
    "    cursor.close()\n",
    "\n",
    "    connection.close()\n",
    "    \n",
    "    return table_name\n",
    "    "
   ]
  },
  {
   "cell_type": "code",
   "execution_count": 12,
   "metadata": {},
   "outputs": [
    {
     "name": "stdout",
     "output_type": "stream",
     "text": [
      "***** { Function } :  execute_query(query): \n",
      "\n",
      "---> execute query :  SELECT table_name FROM record WHERE label = \"laz_biz\" \n",
      "\n"
     ]
    },
    {
     "data": {
      "text/plain": [
       "['laz_biz', 'laz_biz_20220201', 'laz_biz_20220901', 'laz_biz']"
      ]
     },
     "execution_count": 12,
     "metadata": {},
     "output_type": "execute_result"
    }
   ],
   "source": [
    "query='SELECT table_name FROM record WHERE label = \"laz_biz\" '\n",
    "\n",
    "table_name=execute_query('key_metrics_raw',query)\n",
    "\n",
    "table_name"
   ]
  },
  {
   "cell_type": "code",
   "execution_count": 13,
   "metadata": {},
   "outputs": [
    {
     "name": "stdout",
     "output_type": "stream",
     "text": [
      "SELECT *FROM laz_biz\n",
      "SELECT *FROM laz_biz_20220201\n",
      "SELECT *FROM laz_biz_20220901\n",
      "SELECT *FROM laz_biz\n"
     ]
    }
   ],
   "source": [
    "for table_name in table_name : \n",
    "    \n",
    "    query= 'SELECT *FROM ' + table_name\n",
    "    \n",
    "    print(query)"
   ]
  },
  {
   "cell_type": "code",
   "execution_count": 23,
   "metadata": {},
   "outputs": [
    {
     "name": "stdout",
     "output_type": "stream",
     "text": [
      "---> local :  data/output_key_metrics/laz_biz_20220101.xlsx\n"
     ]
    }
   ],
   "source": [
    "db='key_metrics_raw'\n",
    "\n",
    "label='laz_biz'\n",
    "\n",
    "Date='20220101'\n",
    "\n",
    "db=db.replace('db','_').replace('_raw','/')\n",
    "    \n",
    "output='data/output_' +db+ label +'_'+ Date+ '.xlsx'\n",
    "    \n",
    "print('---> local : ',output)"
   ]
  },
  {
   "cell_type": "code",
   "execution_count": 1,
   "metadata": {},
   "outputs": [
    {
     "name": "stdout",
     "output_type": "stream",
     "text": [
      "This program will help you type faster. You will have to type the word 'programming' as fast as you can for five times\n",
      "You made 4 mistake(s).\n",
      "Now let's see your evolution\n"
     ]
    },
    {
     "data": {
      "image/png": "[encoded data removed]",
      "text/plain": [
       "<Figure size 640x480 with 1 Axes>"
      ]
     },
     "metadata": {},
     "output_type": "display_data"
    }
   ],
   "source": [
    "import time as t\n",
    "import matplotlib.pyplot as plt\n",
    "\n",
    "times=[]\n",
    "mistakes=0\n",
    "\n",
    "print(\"This program will help you type faster. You will have to type the word 'programming' as fast as you can for five times\")\n",
    "input(\"Press enter to continue\")\n",
    "\n",
    "while len(times)<5:\n",
    "    start=t.time()\n",
    "    word=input(\"Type the word: \")\n",
    "    end=t.time()\n",
    "    time_elapsed=end-start\n",
    "\n",
    "    times.append(time_elapsed)\n",
    "\n",
    "    if(word.lower()!=\"programming\"):\n",
    "        mistakes+=1\n",
    "\n",
    "print(\"You made \"+str(mistakes)+\" mistake(s).\")\n",
    "print(\"Now let's see your evolution\")\n",
    "t.sleep(4)\n",
    "\n",
    "x=[1,2,3,4,5]\n",
    "y=times\n",
    "plt.plot(x,y)\n",
    "legend=[\"1\",\"2\",\"3\",\"4\",\"5\"]\n",
    "plt.xticks(x,legend)\n",
    "plt.ylabel(\"Time in seconds\")\n",
    "plt.xlabel(\"Attempts\")\n",
    "plt.title(\"Your typing evolution\")\n",
    "\n",
    "\n",
    "plt.show()"
   ]
  },
  {
   "cell_type": "code",
   "execution_count": null,
   "metadata": {},
   "outputs": [],
   "source": []
  },
  {
   "cell_type": "code",
   "execution_count": null,
   "metadata": {},
   "outputs": [],
   "source": []
  }
 ],
 "metadata": {
  "kernelspec": {
   "display_name": "Python 3",
   "language": "python",
   "name": "python3"
  },
  "language_info": {
   "codemirror_mode": {
    "name": "ipython",
    "version": 3
   },
   "file_extension": ".py",
   "mimetype": "text/x-python",
   "name": "python",
   "nbconvert_exporter": "python",
   "pygments_lexer": "ipython3",
   "version": "3.10.6"
  },
  "orig_nbformat": 4
 },
 "nbformat": 4,
 "nbformat_minor": 2
}
